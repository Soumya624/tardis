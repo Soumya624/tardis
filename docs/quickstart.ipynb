{
 "cells": [
  {
   "cell_type": "markdown",
   "metadata": {},
   "source": [
    "# Quickstart for TARDIS"
   ]
  },
  {
   "cell_type": "markdown",
   "metadata": {},
   "source": [
    "Every simulation run requires [atomic data](io/configuration/components/atomic/atomic_data.rst) and a [configuration file](io/configuration/index.rst). \n",
    "\n",
    "## Atomic Data\n",
    "\n",
    "We recommend using the [kurucz_cd23_chianti_H_He.h5](https://dev.azure.com/tardis-sn/TARDIS/_apis/git/repositories/tardis-refdata/items?path=atom_data/kurucz_cd23_chianti_H_He.h5&resolveLfs=true) dataset."
   ]
  },
  {
   "cell_type": "code",
   "execution_count": 1,
   "metadata": {},
   "outputs": [
    {
     "data": {
      "application/vnd.jupyter.widget-view+json": {
       "model_id": "",
       "version_major": 2,
       "version_minor": 0
      },
      "text/plain": [
       "Iterations:          0/? [00:00<?, ?it/s]"
      ]
     },
     "metadata": {},
     "output_type": "display_data"
    },
    {
     "data": {
      "application/vnd.jupyter.widget-view+json": {
       "model_id": "",
       "version_major": 2,
       "version_minor": 0
      },
      "text/plain": [
       "Packets:             0/? [00:00<?, ?it/s]"
      ]
     },
     "metadata": {},
     "output_type": "display_data"
    }
   ],
   "source": [
    "from tardis.io.atom_data.util import download_atom_data"
   ]
  },
  {
   "cell_type": "code",
   "execution_count": 2,
   "metadata": {},
   "outputs": [],
   "source": [
    "download_atom_data('kurucz_cd23_chianti_H_He')"
   ]
  },
  {
   "cell_type": "markdown",
   "metadata": {},
   "source": [
    "You can also obtain a copy of the atomic data from the [tardis-refdata](https://github.com/tardis-sn/tardis-refdata/tree/master/atom_data) repository."
   ]
  },
  {
   "cell_type": "markdown",
   "metadata": {},
   "source": [
    "## Example Configuration File\n",
    "\n",
    "The configuration file [tardis_example.yml](https://github.com/tardis-sn/tardis/tree/master/docs/tardis_example.yml) is used throughout this Quickstart."
   ]
  },
  {
   "cell_type": "code",
   "execution_count": 3,
   "metadata": {},
   "outputs": [],
   "source": [
    "!wget -q -nc https://raw.githubusercontent.com/tardis-sn/tardis/master/docs/tardis_example.yml"
   ]
  },
  {
   "cell_type": "code",
   "execution_count": 4,
   "metadata": {},
   "outputs": [
    {
     "name": "stdout",
     "output_type": "stream",
     "text": [
      "# Example YAML configuration for TARDIS\r",
      "\r\n",
      "tardis_config_version: v1.0\r",
      "\r\n",
      "\r",
      "\r\n",
      "supernova:\r",
      "\r\n",
      "  luminosity_requested: 9.44 log_lsun\r",
      "\r\n",
      "  time_explosion: 13 day\r",
      "\r\n",
      "\r",
      "\r\n",
      "atom_data: kurucz_cd23_chianti_H_He.h5\r",
      "\r\n",
      "\r",
      "\r\n",
      "model:\r",
      "\r\n",
      "  structure:\r",
      "\r\n",
      "    type: specific\r",
      "\r\n",
      "    velocity:\r",
      "\r\n",
      "      start: 1.1e4 km/s\r",
      "\r\n",
      "      stop: 20000 km/s\r",
      "\r\n",
      "      num: 20\r",
      "\r\n",
      "    density:\r",
      "\r\n",
      "      type: branch85_w7\r",
      "\r\n",
      "\r",
      "\r\n",
      "  abundances:\r",
      "\r\n",
      "    type: uniform\r",
      "\r\n",
      "    O: 0.19\r",
      "\r\n",
      "    Mg: 0.03\r",
      "\r\n",
      "    Si: 0.52\r",
      "\r\n",
      "    S: 0.19\r",
      "\r\n",
      "    Ar: 0.04\r",
      "\r\n",
      "    Ca: 0.03\r",
      "\r\n",
      "\r",
      "\r\n",
      "plasma:\r",
      "\r\n",
      "  disable_electron_scattering: no\r",
      "\r\n",
      "  ionization: lte\r",
      "\r\n",
      "  excitation: lte\r",
      "\r\n",
      "  radiative_rates_type: dilute-blackbody\r",
      "\r\n",
      "  line_interaction_type: macroatom\r",
      "\r\n",
      "\r",
      "\r\n",
      "montecarlo:\r",
      "\r\n",
      "  seed: 23111963\r",
      "\r\n",
      "  no_of_packets: 4.0e+4\r",
      "\r\n",
      "  iterations: 20\r",
      "\r\n",
      "  nthreads: 1\r",
      "\r\n",
      "\r",
      "\r\n",
      "  last_no_of_packets: 1.e+5\r",
      "\r\n",
      "  no_of_virtual_packets: 10\r",
      "\r\n",
      "\r",
      "\r\n",
      "  convergence_strategy:\r",
      "\r\n",
      "    type: damped\r",
      "\r\n",
      "    damping_constant: 1.0\r",
      "\r\n",
      "    threshold: 0.05\r",
      "\r\n",
      "    fraction: 0.8\r",
      "\r\n",
      "    hold_iterations: 3\r",
      "\r\n",
      "    t_inner:\r",
      "\r\n",
      "      damping_constant: 0.5\r",
      "\r\n",
      "\r",
      "\r\n",
      "spectrum:\r",
      "\r\n",
      "  start: 500 angstrom\r",
      "\r\n",
      "  stop: 20000 angstrom\r",
      "\r\n",
      "  num: 10000\r",
      "\r\n"
     ]
    }
   ],
   "source": [
    "!cat tardis_example.yml"
   ]
  },
  {
   "cell_type": "markdown",
   "metadata": {},
   "source": [
    "## Running the Simulation\n",
    "\n",
    "To run the simulation, import the `run_tardis` function and create the `sim` object. "
   ]
  },
  {
   "cell_type": "code",
   "execution_count": 5,
   "metadata": {},
   "outputs": [],
   "source": [
    "from tardis import run_tardis"
   ]
  },
  {
   "cell_type": "markdown",
   "metadata": {},
   "source": [
    "<div class=\"alert alert-info\">\n",
    "\n",
    "**Note:**\n",
    "\n",
    "Get more information about the [progress bars](io/output/progress_bars.rst), [logging configuration](io/optional/logging_configuration.ipynb), and [convergence plots](io/visualization/convergence_plot.ipynb). \n",
    "    \n",
    "</div>"
   ]
  },
  {
   "cell_type": "code",
   "execution_count": null,
   "metadata": {
    "scrolled": false
   },
   "outputs": [
    {
     "name": "stdout",
     "output_type": "stream",
     "text": [
      "[\u001b[1mtardis.plasma.standard_plasmas\u001b[0m][\u001b[1;37mINFO\u001b[0m   ]  \n",
      "\t\n",
      "\tReading Atomic Data from kurucz_cd23_chianti_H_He.h5 (\u001b[1mstandard_plasmas.py\u001b[0m:95)\n",
      "[\u001b[1mtardis.io.atom_data.util\u001b[0m][\u001b[1;37mINFO\u001b[0m   ]  \n",
      "\t\n",
      "\tAtom Data kurucz_cd23_chianti_H_He.h5 not found in local path.\n",
      "\tExists in TARDIS Data repo /home/soumya624/Downloads/tardis-data/kurucz_cd23_chianti_H_He.h5 (\u001b[1mutil.py\u001b[0m:33)\n",
      "[\u001b[1mtardis.io.atom_data.base\u001b[0m][\u001b[1;37mINFO\u001b[0m   ]  \n",
      "\tReading Atom Data with: UUID = 6f7b09e887a311e7a06b246e96350010 MD5  = 864f1753714343c41f99cb065710cace  (\u001b[1mbase.py\u001b[0m:249)\n",
      "[\u001b[1mtardis.io.atom_data.base\u001b[0m][\u001b[1;37mINFO\u001b[0m   ]  \n",
      "\tNon provided Atomic Data: synpp_refs, photoionization_data, yg_data, two_photon_data (\u001b[1mbase.py\u001b[0m:253)\n",
      "[\u001b[1mpy.warnings         \u001b[0m][\u001b[1;33mWARNING\u001b[0m]  \n",
      "\t/mnt/c/Users/ASUS/Downloads/Tardis/Forked Tardis/tardis/tardis/plasma/properties/radiative_properties.py:93: RuntimeWarning: invalid value encountered in true_divide\n",
      "  (g_lower * n_upper) / (g_upper * n_lower)\n",
      " (\u001b[1mwarnings.py\u001b[0m:109)\n",
      "[\u001b[1mpy.warnings         \u001b[0m][\u001b[1;33mWARNING\u001b[0m]  \n",
      "\t/mnt/c/Users/ASUS/Downloads/Tardis/Forked Tardis/tardis/tardis/plasma/properties/radiative_properties.py:93: RuntimeWarning: invalid value encountered in true_divide\n",
      "  (g_lower * n_upper) / (g_upper * n_lower)\n",
      " (\u001b[1mwarnings.py\u001b[0m:109)\n",
      "[\u001b[1mtardis.simulation.base\u001b[0m][\u001b[1;37mINFO\u001b[0m   ]  \n",
      "\t\n",
      "\tStarting iteration 1 of 20 (\u001b[1mbase.py\u001b[0m:351)\n"
     ]
    },
    {
     "data": {
      "application/vnd.jupyter.widget-view+json": {
       "model_id": "89b29f4791504828836b797fda35f93a",
       "version_major": 2,
       "version_minor": 0
      },
      "text/plain": [
       "TqdmHBox(children=(HTML(value='Iterations:', layout=Layout(width='6%')), FloatProgress(value=0.0, layout=Layou…"
      ]
     },
     "metadata": {},
     "output_type": "display_data"
    },
    {
     "data": {
      "application/vnd.jupyter.widget-view+json": {
       "model_id": "43e0b8d59fab4bf7b3a36a21e63c22a6",
       "version_major": 2,
       "version_minor": 0
      },
      "text/plain": [
       "TqdmHBox(children=(HTML(value='Packets:   ', layout=Layout(width='6%')), FloatProgress(value=0.0, layout=Layou…"
      ]
     },
     "metadata": {},
     "output_type": "display_data"
    },
    {
     "name": "stdout",
     "output_type": "stream",
     "text": [
      "[\u001b[1mtardis.simulation.base\u001b[0m][\u001b[1;37mINFO\u001b[0m   ]  \n",
      "\t\n",
      "\tLuminosity emitted   = 7.942e+42 erg / s\n",
      "\tLuminosity absorbed  = 2.659e+42 erg / s\n",
      "\tLuminosity requested = 1.059e+43 erg / s\n",
      " (\u001b[1mbase.py\u001b[0m:523)\n",
      "[\u001b[1mtardis.simulation.base\u001b[0m][\u001b[1;37mINFO\u001b[0m   ]  \n",
      "\t\n",
      "\tPlasma stratification: (\u001b[1mbase.py\u001b[0m:491)\n"
     ]
    },
    {
     "data": {
      "text/html": [
       "<style  type=\"text/css\" >\n",
       "</style><table id=\"T_05be5838_aa4e_11ed_803a_00155dfc04d5\" ><thead>    <tr>        <th class=\"index_name level0\" >Shell No.</th>        <th class=\"col_heading level0 col0\" >t_rad</th>        <th class=\"col_heading level0 col1\" >next_t_rad</th>        <th class=\"col_heading level0 col2\" >w</th>        <th class=\"col_heading level0 col3\" >next_w</th>    </tr></thead><tbody>\n",
       "                <tr>\n",
       "                        <th id=\"T_05be5838_aa4e_11ed_803a_00155dfc04d5level0_row0\" class=\"row_heading level0 row0\" >0</th>\n",
       "                        <td id=\"T_05be5838_aa4e_11ed_803a_00155dfc04d5row0_col0\" class=\"data row0 col0\" >9.93e+03</td>\n",
       "                        <td id=\"T_05be5838_aa4e_11ed_803a_00155dfc04d5row0_col1\" class=\"data row0 col1\" >1.01e+04</td>\n",
       "                        <td id=\"T_05be5838_aa4e_11ed_803a_00155dfc04d5row0_col2\" class=\"data row0 col2\" >0.4</td>\n",
       "                        <td id=\"T_05be5838_aa4e_11ed_803a_00155dfc04d5row0_col3\" class=\"data row0 col3\" >0.507</td>\n",
       "            </tr>\n",
       "            <tr>\n",
       "                        <th id=\"T_05be5838_aa4e_11ed_803a_00155dfc04d5level0_row1\" class=\"row_heading level0 row1\" >5</th>\n",
       "                        <td id=\"T_05be5838_aa4e_11ed_803a_00155dfc04d5row1_col0\" class=\"data row1 col0\" >9.85e+03</td>\n",
       "                        <td id=\"T_05be5838_aa4e_11ed_803a_00155dfc04d5row1_col1\" class=\"data row1 col1\" >1.02e+04</td>\n",
       "                        <td id=\"T_05be5838_aa4e_11ed_803a_00155dfc04d5row1_col2\" class=\"data row1 col2\" >0.211</td>\n",
       "                        <td id=\"T_05be5838_aa4e_11ed_803a_00155dfc04d5row1_col3\" class=\"data row1 col3\" >0.197</td>\n",
       "            </tr>\n",
       "            <tr>\n",
       "                        <th id=\"T_05be5838_aa4e_11ed_803a_00155dfc04d5level0_row2\" class=\"row_heading level0 row2\" >10</th>\n",
       "                        <td id=\"T_05be5838_aa4e_11ed_803a_00155dfc04d5row2_col0\" class=\"data row2 col0\" >9.78e+03</td>\n",
       "                        <td id=\"T_05be5838_aa4e_11ed_803a_00155dfc04d5row2_col1\" class=\"data row2 col1\" >1.01e+04</td>\n",
       "                        <td id=\"T_05be5838_aa4e_11ed_803a_00155dfc04d5row2_col2\" class=\"data row2 col2\" >0.143</td>\n",
       "                        <td id=\"T_05be5838_aa4e_11ed_803a_00155dfc04d5row2_col3\" class=\"data row2 col3\" >0.117</td>\n",
       "            </tr>\n",
       "            <tr>\n",
       "                        <th id=\"T_05be5838_aa4e_11ed_803a_00155dfc04d5level0_row3\" class=\"row_heading level0 row3\" >15</th>\n",
       "                        <td id=\"T_05be5838_aa4e_11ed_803a_00155dfc04d5row3_col0\" class=\"data row3 col0\" >9.71e+03</td>\n",
       "                        <td id=\"T_05be5838_aa4e_11ed_803a_00155dfc04d5row3_col1\" class=\"data row3 col1\" >9.87e+03</td>\n",
       "                        <td id=\"T_05be5838_aa4e_11ed_803a_00155dfc04d5row3_col2\" class=\"data row3 col2\" >0.105</td>\n",
       "                        <td id=\"T_05be5838_aa4e_11ed_803a_00155dfc04d5row3_col3\" class=\"data row3 col3\" >0.0869</td>\n",
       "            </tr>\n",
       "    </tbody></table>"
      ],
      "text/plain": [
       "<pandas.io.formats.style.Styler at 0x7f76943b9be0>"
      ]
     },
     "metadata": {},
     "output_type": "display_data"
    },
    {
     "name": "stdout",
     "output_type": "stream",
     "text": [
      "[\u001b[1mtardis.simulation.base\u001b[0m][\u001b[1;37mINFO\u001b[0m   ]  \n",
      "\t\n",
      "\tCurrent t_inner = 9933.952 K\n",
      "\tExpected t_inner for next iteration = 10703.212 K\n",
      " (\u001b[1mbase.py\u001b[0m:518)\n",
      "[\u001b[1mpy.warnings         \u001b[0m][\u001b[1;33mWARNING\u001b[0m]  \n",
      "\t/mnt/c/Users/ASUS/Downloads/Tardis/Forked Tardis/tardis/tardis/plasma/properties/radiative_properties.py:93: RuntimeWarning: invalid value encountered in true_divide\n",
      "  (g_lower * n_upper) / (g_upper * n_lower)\n",
      " (\u001b[1mwarnings.py\u001b[0m:109)\n"
     ]
    },
    {
     "data": {
      "application/vnd.jupyter.widget-view+json": {
       "model_id": "3f03b37bc26443e88017ac20921eee01",
       "version_major": 2,
       "version_minor": 0
      },
      "text/plain": [
       "VBox(children=(FigureWidget({\n",
       "    'data': [{'type': 'scatter', 'uid': '19cead11-3c78-4191-9c82-3afa6c6d1e03', …"
      ]
     },
     "metadata": {},
     "output_type": "display_data"
    },
    {
     "name": "stdout",
     "output_type": "stream",
     "text": [
      "[\u001b[1mtardis.simulation.base\u001b[0m][\u001b[1;37mINFO\u001b[0m   ]  \n",
      "\t\n",
      "\tStarting iteration 2 of 20 (\u001b[1mbase.py\u001b[0m:351)\n",
      "[\u001b[1mtardis.simulation.base\u001b[0m][\u001b[1;37mINFO\u001b[0m   ]  \n",
      "\t\n",
      "\tLuminosity emitted   = 1.071e+43 erg / s\n",
      "\tLuminosity absorbed  = 3.576e+42 erg / s\n",
      "\tLuminosity requested = 1.059e+43 erg / s\n",
      " (\u001b[1mbase.py\u001b[0m:523)\n",
      "[\u001b[1mtardis.simulation.base\u001b[0m][\u001b[1;37mINFO\u001b[0m   ]  \n",
      "\t\n",
      "\tPlasma stratification: (\u001b[1mbase.py\u001b[0m:491)\n"
     ]
    },
    {
     "data": {
      "text/html": [
       "<style  type=\"text/css\" >\n",
       "</style><table id=\"T_06b7cf94_aa4e_11ed_803a_00155dfc04d5\" ><thead>    <tr>        <th class=\"index_name level0\" >Shell No.</th>        <th class=\"col_heading level0 col0\" >t_rad</th>        <th class=\"col_heading level0 col1\" >next_t_rad</th>        <th class=\"col_heading level0 col2\" >w</th>        <th class=\"col_heading level0 col3\" >next_w</th>    </tr></thead><tbody>\n",
       "                <tr>\n",
       "                        <th id=\"T_06b7cf94_aa4e_11ed_803a_00155dfc04d5level0_row0\" class=\"row_heading level0 row0\" >0</th>\n",
       "                        <td id=\"T_06b7cf94_aa4e_11ed_803a_00155dfc04d5row0_col0\" class=\"data row0 col0\" >1.01e+04</td>\n",
       "                        <td id=\"T_06b7cf94_aa4e_11ed_803a_00155dfc04d5row0_col1\" class=\"data row0 col1\" >1.08e+04</td>\n",
       "                        <td id=\"T_06b7cf94_aa4e_11ed_803a_00155dfc04d5row0_col2\" class=\"data row0 col2\" >0.507</td>\n",
       "                        <td id=\"T_06b7cf94_aa4e_11ed_803a_00155dfc04d5row0_col3\" class=\"data row0 col3\" >0.525</td>\n",
       "            </tr>\n",
       "            <tr>\n",
       "                        <th id=\"T_06b7cf94_aa4e_11ed_803a_00155dfc04d5level0_row1\" class=\"row_heading level0 row1\" >5</th>\n",
       "                        <td id=\"T_06b7cf94_aa4e_11ed_803a_00155dfc04d5row1_col0\" class=\"data row1 col0\" >1.02e+04</td>\n",
       "                        <td id=\"T_06b7cf94_aa4e_11ed_803a_00155dfc04d5row1_col1\" class=\"data row1 col1\" >1.1e+04</td>\n",
       "                        <td id=\"T_06b7cf94_aa4e_11ed_803a_00155dfc04d5row1_col2\" class=\"data row1 col2\" >0.197</td>\n",
       "                        <td id=\"T_06b7cf94_aa4e_11ed_803a_00155dfc04d5row1_col3\" class=\"data row1 col3\" >0.203</td>\n",
       "            </tr>\n",
       "            <tr>\n",
       "                        <th id=\"T_06b7cf94_aa4e_11ed_803a_00155dfc04d5level0_row2\" class=\"row_heading level0 row2\" >10</th>\n",
       "                        <td id=\"T_06b7cf94_aa4e_11ed_803a_00155dfc04d5row2_col0\" class=\"data row2 col0\" >1.01e+04</td>\n",
       "                        <td id=\"T_06b7cf94_aa4e_11ed_803a_00155dfc04d5row2_col1\" class=\"data row2 col1\" >1.08e+04</td>\n",
       "                        <td id=\"T_06b7cf94_aa4e_11ed_803a_00155dfc04d5row2_col2\" class=\"data row2 col2\" >0.117</td>\n",
       "                        <td id=\"T_06b7cf94_aa4e_11ed_803a_00155dfc04d5row2_col3\" class=\"data row2 col3\" >0.125</td>\n",
       "            </tr>\n",
       "            <tr>\n",
       "                        <th id=\"T_06b7cf94_aa4e_11ed_803a_00155dfc04d5level0_row3\" class=\"row_heading level0 row3\" >15</th>\n",
       "                        <td id=\"T_06b7cf94_aa4e_11ed_803a_00155dfc04d5row3_col0\" class=\"data row3 col0\" >9.87e+03</td>\n",
       "                        <td id=\"T_06b7cf94_aa4e_11ed_803a_00155dfc04d5row3_col1\" class=\"data row3 col1\" >1.05e+04</td>\n",
       "                        <td id=\"T_06b7cf94_aa4e_11ed_803a_00155dfc04d5row3_col2\" class=\"data row3 col2\" >0.0869</td>\n",
       "                        <td id=\"T_06b7cf94_aa4e_11ed_803a_00155dfc04d5row3_col3\" class=\"data row3 col3\" >0.0933</td>\n",
       "            </tr>\n",
       "    </tbody></table>"
      ],
      "text/plain": [
       "<pandas.io.formats.style.Styler at 0x7f75fdefffd0>"
      ]
     },
     "metadata": {},
     "output_type": "display_data"
    },
    {
     "name": "stdout",
     "output_type": "stream",
     "text": [
      "[\u001b[1mtardis.simulation.base\u001b[0m][\u001b[1;37mINFO\u001b[0m   ]  \n",
      "\t\n",
      "\tCurrent t_inner = 10703.212 K\n",
      "\tExpected t_inner for next iteration = 10673.712 K\n",
      " (\u001b[1mbase.py\u001b[0m:518)\n",
      "[\u001b[1mpy.warnings         \u001b[0m][\u001b[1;33mWARNING\u001b[0m]  \n",
      "\t/mnt/c/Users/ASUS/Downloads/Tardis/Forked Tardis/tardis/tardis/plasma/properties/radiative_properties.py:93: RuntimeWarning:\n",
      "\n",
      "invalid value encountered in true_divide\n",
      "\n",
      " (\u001b[1mwarnings.py\u001b[0m:109)\n",
      "[\u001b[1mtardis.simulation.base\u001b[0m][\u001b[1;37mINFO\u001b[0m   ]  \n",
      "\t\n",
      "\tStarting iteration 3 of 20 (\u001b[1mbase.py\u001b[0m:351)\n",
      "[\u001b[1mtardis.simulation.base\u001b[0m][\u001b[1;37mINFO\u001b[0m   ]  \n",
      "\t\n",
      "\tLuminosity emitted   = 1.074e+43 erg / s\n",
      "\tLuminosity absorbed  = 3.391e+42 erg / s\n",
      "\tLuminosity requested = 1.059e+43 erg / s\n",
      " (\u001b[1mbase.py\u001b[0m:523)\n",
      "[\u001b[1mtardis.simulation.base\u001b[0m][\u001b[1;37mINFO\u001b[0m   ]  \n",
      "\t\n",
      "\tPlasma stratification: (\u001b[1mbase.py\u001b[0m:491)\n"
     ]
    },
    {
     "data": {
      "text/html": [
       "<style  type=\"text/css\" >\n",
       "</style><table id=\"T_073f334e_aa4e_11ed_803a_00155dfc04d5\" ><thead>    <tr>        <th class=\"index_name level0\" >Shell No.</th>        <th class=\"col_heading level0 col0\" >t_rad</th>        <th class=\"col_heading level0 col1\" >next_t_rad</th>        <th class=\"col_heading level0 col2\" >w</th>        <th class=\"col_heading level0 col3\" >next_w</th>    </tr></thead><tbody>\n",
       "                <tr>\n",
       "                        <th id=\"T_073f334e_aa4e_11ed_803a_00155dfc04d5level0_row0\" class=\"row_heading level0 row0\" >0</th>\n",
       "                        <td id=\"T_073f334e_aa4e_11ed_803a_00155dfc04d5row0_col0\" class=\"data row0 col0\" >1.08e+04</td>\n",
       "                        <td id=\"T_073f334e_aa4e_11ed_803a_00155dfc04d5row0_col1\" class=\"data row0 col1\" >1.1e+04</td>\n",
       "                        <td id=\"T_073f334e_aa4e_11ed_803a_00155dfc04d5row0_col2\" class=\"data row0 col2\" >0.525</td>\n",
       "                        <td id=\"T_073f334e_aa4e_11ed_803a_00155dfc04d5row0_col3\" class=\"data row0 col3\" >0.483</td>\n",
       "            </tr>\n",
       "            <tr>\n",
       "                        <th id=\"T_073f334e_aa4e_11ed_803a_00155dfc04d5level0_row1\" class=\"row_heading level0 row1\" >5</th>\n",
       "                        <td id=\"T_073f334e_aa4e_11ed_803a_00155dfc04d5row1_col0\" class=\"data row1 col0\" >1.1e+04</td>\n",
       "                        <td id=\"T_073f334e_aa4e_11ed_803a_00155dfc04d5row1_col1\" class=\"data row1 col1\" >1.12e+04</td>\n",
       "                        <td id=\"T_073f334e_aa4e_11ed_803a_00155dfc04d5row1_col2\" class=\"data row1 col2\" >0.203</td>\n",
       "                        <td id=\"T_073f334e_aa4e_11ed_803a_00155dfc04d5row1_col3\" class=\"data row1 col3\" >0.189</td>\n",
       "            </tr>\n",
       "            <tr>\n",
       "                        <th id=\"T_073f334e_aa4e_11ed_803a_00155dfc04d5level0_row2\" class=\"row_heading level0 row2\" >10</th>\n",
       "                        <td id=\"T_073f334e_aa4e_11ed_803a_00155dfc04d5row2_col0\" class=\"data row2 col0\" >1.08e+04</td>\n",
       "                        <td id=\"T_073f334e_aa4e_11ed_803a_00155dfc04d5row2_col1\" class=\"data row2 col1\" >1.1e+04</td>\n",
       "                        <td id=\"T_073f334e_aa4e_11ed_803a_00155dfc04d5row2_col2\" class=\"data row2 col2\" >0.125</td>\n",
       "                        <td id=\"T_073f334e_aa4e_11ed_803a_00155dfc04d5row2_col3\" class=\"data row2 col3\" >0.118</td>\n",
       "            </tr>\n",
       "            <tr>\n",
       "                        <th id=\"T_073f334e_aa4e_11ed_803a_00155dfc04d5level0_row3\" class=\"row_heading level0 row3\" >15</th>\n",
       "                        <td id=\"T_073f334e_aa4e_11ed_803a_00155dfc04d5row3_col0\" class=\"data row3 col0\" >1.05e+04</td>\n",
       "                        <td id=\"T_073f334e_aa4e_11ed_803a_00155dfc04d5row3_col1\" class=\"data row3 col1\" >1.06e+04</td>\n",
       "                        <td id=\"T_073f334e_aa4e_11ed_803a_00155dfc04d5row3_col2\" class=\"data row3 col2\" >0.0933</td>\n",
       "                        <td id=\"T_073f334e_aa4e_11ed_803a_00155dfc04d5row3_col3\" class=\"data row3 col3\" >0.0895</td>\n",
       "            </tr>\n",
       "    </tbody></table>"
      ],
      "text/plain": [
       "<pandas.io.formats.style.Styler at 0x7f76468e39d0>"
      ]
     },
     "metadata": {},
     "output_type": "display_data"
    },
    {
     "name": "stdout",
     "output_type": "stream",
     "text": [
      "[\u001b[1mtardis.simulation.base\u001b[0m][\u001b[1;37mINFO\u001b[0m   ]  \n",
      "\t\n",
      "\tCurrent t_inner = 10673.712 K\n",
      "\tExpected t_inner for next iteration = 10635.953 K\n",
      " (\u001b[1mbase.py\u001b[0m:518)\n",
      "[\u001b[1mtardis.simulation.base\u001b[0m][\u001b[1;37mINFO\u001b[0m   ]  \n",
      "\t\n",
      "\tStarting iteration 4 of 20 (\u001b[1mbase.py\u001b[0m:351)\n",
      "[\u001b[1mtardis.simulation.base\u001b[0m][\u001b[1;37mINFO\u001b[0m   ]  \n",
      "\t\n",
      "\tLuminosity emitted   = 1.058e+43 erg / s\n",
      "\tLuminosity absorbed  = 3.352e+42 erg / s\n",
      "\tLuminosity requested = 1.059e+43 erg / s\n",
      " (\u001b[1mbase.py\u001b[0m:523)\n",
      "[\u001b[1mtardis.simulation.base\u001b[0m][\u001b[1;37mINFO\u001b[0m   ]  \n",
      "\t\n",
      "\tPlasma stratification: (\u001b[1mbase.py\u001b[0m:491)\n"
     ]
    },
    {
     "data": {
      "text/html": [
       "<style  type=\"text/css\" >\n",
       "</style><table id=\"T_07bb0780_aa4e_11ed_803a_00155dfc04d5\" ><thead>    <tr>        <th class=\"index_name level0\" >Shell No.</th>        <th class=\"col_heading level0 col0\" >t_rad</th>        <th class=\"col_heading level0 col1\" >next_t_rad</th>        <th class=\"col_heading level0 col2\" >w</th>        <th class=\"col_heading level0 col3\" >next_w</th>    </tr></thead><tbody>\n",
       "                <tr>\n",
       "                        <th id=\"T_07bb0780_aa4e_11ed_803a_00155dfc04d5level0_row0\" class=\"row_heading level0 row0\" >0</th>\n",
       "                        <td id=\"T_07bb0780_aa4e_11ed_803a_00155dfc04d5row0_col0\" class=\"data row0 col0\" >1.1e+04</td>\n",
       "                        <td id=\"T_07bb0780_aa4e_11ed_803a_00155dfc04d5row0_col1\" class=\"data row0 col1\" >1.1e+04</td>\n",
       "                        <td id=\"T_07bb0780_aa4e_11ed_803a_00155dfc04d5row0_col2\" class=\"data row0 col2\" >0.483</td>\n",
       "                        <td id=\"T_07bb0780_aa4e_11ed_803a_00155dfc04d5row0_col3\" class=\"data row0 col3\" >0.469</td>\n",
       "            </tr>\n",
       "            <tr>\n",
       "                        <th id=\"T_07bb0780_aa4e_11ed_803a_00155dfc04d5level0_row1\" class=\"row_heading level0 row1\" >5</th>\n",
       "                        <td id=\"T_07bb0780_aa4e_11ed_803a_00155dfc04d5row1_col0\" class=\"data row1 col0\" >1.12e+04</td>\n",
       "                        <td id=\"T_07bb0780_aa4e_11ed_803a_00155dfc04d5row1_col1\" class=\"data row1 col1\" >1.12e+04</td>\n",
       "                        <td id=\"T_07bb0780_aa4e_11ed_803a_00155dfc04d5row1_col2\" class=\"data row1 col2\" >0.189</td>\n",
       "                        <td id=\"T_07bb0780_aa4e_11ed_803a_00155dfc04d5row1_col3\" class=\"data row1 col3\" >0.182</td>\n",
       "            </tr>\n",
       "            <tr>\n",
       "                        <th id=\"T_07bb0780_aa4e_11ed_803a_00155dfc04d5level0_row2\" class=\"row_heading level0 row2\" >10</th>\n",
       "                        <td id=\"T_07bb0780_aa4e_11ed_803a_00155dfc04d5row2_col0\" class=\"data row2 col0\" >1.1e+04</td>\n",
       "                        <td id=\"T_07bb0780_aa4e_11ed_803a_00155dfc04d5row2_col1\" class=\"data row2 col1\" >1.1e+04</td>\n",
       "                        <td id=\"T_07bb0780_aa4e_11ed_803a_00155dfc04d5row2_col2\" class=\"data row2 col2\" >0.118</td>\n",
       "                        <td id=\"T_07bb0780_aa4e_11ed_803a_00155dfc04d5row2_col3\" class=\"data row2 col3\" >0.113</td>\n",
       "            </tr>\n",
       "            <tr>\n",
       "                        <th id=\"T_07bb0780_aa4e_11ed_803a_00155dfc04d5level0_row3\" class=\"row_heading level0 row3\" >15</th>\n",
       "                        <td id=\"T_07bb0780_aa4e_11ed_803a_00155dfc04d5row3_col0\" class=\"data row3 col0\" >1.06e+04</td>\n",
       "                        <td id=\"T_07bb0780_aa4e_11ed_803a_00155dfc04d5row3_col1\" class=\"data row3 col1\" >1.07e+04</td>\n",
       "                        <td id=\"T_07bb0780_aa4e_11ed_803a_00155dfc04d5row3_col2\" class=\"data row3 col2\" >0.0895</td>\n",
       "                        <td id=\"T_07bb0780_aa4e_11ed_803a_00155dfc04d5row3_col3\" class=\"data row3 col3\" >0.0861</td>\n",
       "            </tr>\n",
       "    </tbody></table>"
      ],
      "text/plain": [
       "<pandas.io.formats.style.Styler at 0x7f75fd9cc0a0>"
      ]
     },
     "metadata": {},
     "output_type": "display_data"
    },
    {
     "name": "stdout",
     "output_type": "stream",
     "text": [
      "[\u001b[1mtardis.simulation.base\u001b[0m][\u001b[1;37mINFO\u001b[0m   ]  \n",
      "\t\n",
      "\tCurrent t_inner = 10635.953 K\n",
      "\tExpected t_inner for next iteration = 10638.407 K\n",
      " (\u001b[1mbase.py\u001b[0m:518)\n",
      "[\u001b[1mtardis.simulation.base\u001b[0m][\u001b[1;37mINFO\u001b[0m   ]  \n",
      "\t\n",
      "\tStarting iteration 5 of 20 (\u001b[1mbase.py\u001b[0m:351)\n",
      "[\u001b[1mtardis.simulation.base\u001b[0m][\u001b[1;37mINFO\u001b[0m   ]  \n",
      "\t\n",
      "\tLuminosity emitted   = 1.055e+43 erg / s\n",
      "\tLuminosity absorbed  = 3.399e+42 erg / s\n",
      "\tLuminosity requested = 1.059e+43 erg / s\n",
      " (\u001b[1mbase.py\u001b[0m:523)\n",
      "[\u001b[1mtardis.simulation.convergence_plot\u001b[0m][\u001b[1;37mINFO\u001b[0m   ]  \n",
      "\tIteration converged 1/4 consecutive times. (\u001b[1mconvergence_plot.py\u001b[0m:94)\n",
      "[\u001b[1mtardis.simulation.base\u001b[0m][\u001b[1;37mINFO\u001b[0m   ]  \n",
      "\t\n",
      "\tPlasma stratification: (\u001b[1mbase.py\u001b[0m:491)\n"
     ]
    },
    {
     "data": {
      "text/html": [
       "<style  type=\"text/css\" >\n",
       "</style><table id=\"T_0837773e_aa4e_11ed_803a_00155dfc04d5\" ><thead>    <tr>        <th class=\"index_name level0\" >Shell No.</th>        <th class=\"col_heading level0 col0\" >t_rad</th>        <th class=\"col_heading level0 col1\" >next_t_rad</th>        <th class=\"col_heading level0 col2\" >w</th>        <th class=\"col_heading level0 col3\" >next_w</th>    </tr></thead><tbody>\n",
       "                <tr>\n",
       "                        <th id=\"T_0837773e_aa4e_11ed_803a_00155dfc04d5level0_row0\" class=\"row_heading level0 row0\" >0</th>\n",
       "                        <td id=\"T_0837773e_aa4e_11ed_803a_00155dfc04d5row0_col0\" class=\"data row0 col0\" >1.1e+04</td>\n",
       "                        <td id=\"T_0837773e_aa4e_11ed_803a_00155dfc04d5row0_col1\" class=\"data row0 col1\" >1.1e+04</td>\n",
       "                        <td id=\"T_0837773e_aa4e_11ed_803a_00155dfc04d5row0_col2\" class=\"data row0 col2\" >0.469</td>\n",
       "                        <td id=\"T_0837773e_aa4e_11ed_803a_00155dfc04d5row0_col3\" class=\"data row0 col3\" >0.479</td>\n",
       "            </tr>\n",
       "            <tr>\n",
       "                        <th id=\"T_0837773e_aa4e_11ed_803a_00155dfc04d5level0_row1\" class=\"row_heading level0 row1\" >5</th>\n",
       "                        <td id=\"T_0837773e_aa4e_11ed_803a_00155dfc04d5row1_col0\" class=\"data row1 col0\" >1.12e+04</td>\n",
       "                        <td id=\"T_0837773e_aa4e_11ed_803a_00155dfc04d5row1_col1\" class=\"data row1 col1\" >1.13e+04</td>\n",
       "                        <td id=\"T_0837773e_aa4e_11ed_803a_00155dfc04d5row1_col2\" class=\"data row1 col2\" >0.182</td>\n",
       "                        <td id=\"T_0837773e_aa4e_11ed_803a_00155dfc04d5row1_col3\" class=\"data row1 col3\" >0.178</td>\n",
       "            </tr>\n",
       "            <tr>\n",
       "                        <th id=\"T_0837773e_aa4e_11ed_803a_00155dfc04d5level0_row2\" class=\"row_heading level0 row2\" >10</th>\n",
       "                        <td id=\"T_0837773e_aa4e_11ed_803a_00155dfc04d5row2_col0\" class=\"data row2 col0\" >1.1e+04</td>\n",
       "                        <td id=\"T_0837773e_aa4e_11ed_803a_00155dfc04d5row2_col1\" class=\"data row2 col1\" >1.1e+04</td>\n",
       "                        <td id=\"T_0837773e_aa4e_11ed_803a_00155dfc04d5row2_col2\" class=\"data row2 col2\" >0.113</td>\n",
       "                        <td id=\"T_0837773e_aa4e_11ed_803a_00155dfc04d5row2_col3\" class=\"data row2 col3\" >0.113</td>\n",
       "            </tr>\n",
       "            <tr>\n",
       "                        <th id=\"T_0837773e_aa4e_11ed_803a_00155dfc04d5level0_row3\" class=\"row_heading level0 row3\" >15</th>\n",
       "                        <td id=\"T_0837773e_aa4e_11ed_803a_00155dfc04d5row3_col0\" class=\"data row3 col0\" >1.07e+04</td>\n",
       "                        <td id=\"T_0837773e_aa4e_11ed_803a_00155dfc04d5row3_col1\" class=\"data row3 col1\" >1.07e+04</td>\n",
       "                        <td id=\"T_0837773e_aa4e_11ed_803a_00155dfc04d5row3_col2\" class=\"data row3 col2\" >0.0861</td>\n",
       "                        <td id=\"T_0837773e_aa4e_11ed_803a_00155dfc04d5row3_col3\" class=\"data row3 col3\" >0.0839</td>\n",
       "            </tr>\n",
       "    </tbody></table>"
      ],
      "text/plain": [
       "<pandas.io.formats.style.Styler at 0x7f7695f54700>"
      ]
     },
     "metadata": {},
     "output_type": "display_data"
    },
    {
     "name": "stdout",
     "output_type": "stream",
     "text": [
      "[\u001b[1mtardis.simulation.base\u001b[0m][\u001b[1;37mINFO\u001b[0m   ]  \n",
      "\t\n",
      "\tCurrent t_inner = 10638.407 K\n",
      "\tExpected t_inner for next iteration = 10650.202 K\n",
      " (\u001b[1mbase.py\u001b[0m:518)\n",
      "[\u001b[1mtardis.simulation.base\u001b[0m][\u001b[1;37mINFO\u001b[0m   ]  \n",
      "\t\n",
      "\tStarting iteration 6 of 20 (\u001b[1mbase.py\u001b[0m:351)\n",
      "[\u001b[1mtardis.simulation.base\u001b[0m][\u001b[1;37mINFO\u001b[0m   ]  \n",
      "\t\n",
      "\tLuminosity emitted   = 1.061e+43 erg / s\n",
      "\tLuminosity absorbed  = 3.398e+42 erg / s\n",
      "\tLuminosity requested = 1.059e+43 erg / s\n",
      " (\u001b[1mbase.py\u001b[0m:523)\n",
      "[\u001b[1mtardis.simulation.convergence_plot\u001b[0m][\u001b[1;37mINFO\u001b[0m   ]  \n",
      "\tIteration converged 2/4 consecutive times. (\u001b[1mconvergence_plot.py\u001b[0m:94)\n",
      "[\u001b[1mtardis.simulation.base\u001b[0m][\u001b[1;37mINFO\u001b[0m   ]  \n",
      "\t\n",
      "\tPlasma stratification: (\u001b[1mbase.py\u001b[0m:491)\n"
     ]
    },
    {
     "data": {
      "text/html": [
       "<style  type=\"text/css\" >\n",
       "</style><table id=\"T_08b4d56c_aa4e_11ed_803a_00155dfc04d5\" ><thead>    <tr>        <th class=\"index_name level0\" >Shell No.</th>        <th class=\"col_heading level0 col0\" >t_rad</th>        <th class=\"col_heading level0 col1\" >next_t_rad</th>        <th class=\"col_heading level0 col2\" >w</th>        <th class=\"col_heading level0 col3\" >next_w</th>    </tr></thead><tbody>\n",
       "                <tr>\n",
       "                        <th id=\"T_08b4d56c_aa4e_11ed_803a_00155dfc04d5level0_row0\" class=\"row_heading level0 row0\" >0</th>\n",
       "                        <td id=\"T_08b4d56c_aa4e_11ed_803a_00155dfc04d5row0_col0\" class=\"data row0 col0\" >1.1e+04</td>\n",
       "                        <td id=\"T_08b4d56c_aa4e_11ed_803a_00155dfc04d5row0_col1\" class=\"data row0 col1\" >1.1e+04</td>\n",
       "                        <td id=\"T_08b4d56c_aa4e_11ed_803a_00155dfc04d5row0_col2\" class=\"data row0 col2\" >0.479</td>\n",
       "                        <td id=\"T_08b4d56c_aa4e_11ed_803a_00155dfc04d5row0_col3\" class=\"data row0 col3\" >0.47</td>\n",
       "            </tr>\n",
       "            <tr>\n",
       "                        <th id=\"T_08b4d56c_aa4e_11ed_803a_00155dfc04d5level0_row1\" class=\"row_heading level0 row1\" >5</th>\n",
       "                        <td id=\"T_08b4d56c_aa4e_11ed_803a_00155dfc04d5row1_col0\" class=\"data row1 col0\" >1.13e+04</td>\n",
       "                        <td id=\"T_08b4d56c_aa4e_11ed_803a_00155dfc04d5row1_col1\" class=\"data row1 col1\" >1.12e+04</td>\n",
       "                        <td id=\"T_08b4d56c_aa4e_11ed_803a_00155dfc04d5row1_col2\" class=\"data row1 col2\" >0.178</td>\n",
       "                        <td id=\"T_08b4d56c_aa4e_11ed_803a_00155dfc04d5row1_col3\" class=\"data row1 col3\" >0.185</td>\n",
       "            </tr>\n",
       "            <tr>\n",
       "                        <th id=\"T_08b4d56c_aa4e_11ed_803a_00155dfc04d5level0_row2\" class=\"row_heading level0 row2\" >10</th>\n",
       "                        <td id=\"T_08b4d56c_aa4e_11ed_803a_00155dfc04d5row2_col0\" class=\"data row2 col0\" >1.1e+04</td>\n",
       "                        <td id=\"T_08b4d56c_aa4e_11ed_803a_00155dfc04d5row2_col1\" class=\"data row2 col1\" >1.11e+04</td>\n",
       "                        <td id=\"T_08b4d56c_aa4e_11ed_803a_00155dfc04d5row2_col2\" class=\"data row2 col2\" >0.113</td>\n",
       "                        <td id=\"T_08b4d56c_aa4e_11ed_803a_00155dfc04d5row2_col3\" class=\"data row2 col3\" >0.112</td>\n",
       "            </tr>\n",
       "            <tr>\n",
       "                        <th id=\"T_08b4d56c_aa4e_11ed_803a_00155dfc04d5level0_row3\" class=\"row_heading level0 row3\" >15</th>\n",
       "                        <td id=\"T_08b4d56c_aa4e_11ed_803a_00155dfc04d5row3_col0\" class=\"data row3 col0\" >1.07e+04</td>\n",
       "                        <td id=\"T_08b4d56c_aa4e_11ed_803a_00155dfc04d5row3_col1\" class=\"data row3 col1\" >1.07e+04</td>\n",
       "                        <td id=\"T_08b4d56c_aa4e_11ed_803a_00155dfc04d5row3_col2\" class=\"data row3 col2\" >0.0839</td>\n",
       "                        <td id=\"T_08b4d56c_aa4e_11ed_803a_00155dfc04d5row3_col3\" class=\"data row3 col3\" >0.0856</td>\n",
       "            </tr>\n",
       "    </tbody></table>"
      ],
      "text/plain": [
       "<pandas.io.formats.style.Styler at 0x7f765f922ac0>"
      ]
     },
     "metadata": {},
     "output_type": "display_data"
    },
    {
     "name": "stdout",
     "output_type": "stream",
     "text": [
      "[\u001b[1mtardis.simulation.base\u001b[0m][\u001b[1;37mINFO\u001b[0m   ]  \n",
      "\t\n",
      "\tCurrent t_inner = 10650.202 K\n",
      "\tExpected t_inner for next iteration = 10645.955 K\n",
      " (\u001b[1mbase.py\u001b[0m:518)\n",
      "[\u001b[1mtardis.simulation.base\u001b[0m][\u001b[1;37mINFO\u001b[0m   ]  \n",
      "\t\n",
      "\tStarting iteration 7 of 20 (\u001b[1mbase.py\u001b[0m:351)\n",
      "[\u001b[1mtardis.simulation.base\u001b[0m][\u001b[1;37mINFO\u001b[0m   ]  \n",
      "\t\n",
      "\tLuminosity emitted   = 1.061e+43 erg / s\n",
      "\tLuminosity absorbed  = 3.382e+42 erg / s\n",
      "\tLuminosity requested = 1.059e+43 erg / s\n",
      " (\u001b[1mbase.py\u001b[0m:523)\n",
      "[\u001b[1mtardis.simulation.convergence_plot\u001b[0m][\u001b[1;37mINFO\u001b[0m   ]  \n",
      "\tIteration converged 3/4 consecutive times. (\u001b[1mconvergence_plot.py\u001b[0m:94)\n",
      "[\u001b[1mtardis.simulation.base\u001b[0m][\u001b[1;37mINFO\u001b[0m   ]  \n",
      "\t\n",
      "\tPlasma stratification: (\u001b[1mbase.py\u001b[0m:491)\n"
     ]
    },
    {
     "data": {
      "text/html": [
       "<style  type=\"text/css\" >\n",
       "</style><table id=\"T_092ef130_aa4e_11ed_803a_00155dfc04d5\" ><thead>    <tr>        <th class=\"index_name level0\" >Shell No.</th>        <th class=\"col_heading level0 col0\" >t_rad</th>        <th class=\"col_heading level0 col1\" >next_t_rad</th>        <th class=\"col_heading level0 col2\" >w</th>        <th class=\"col_heading level0 col3\" >next_w</th>    </tr></thead><tbody>\n",
       "                <tr>\n",
       "                        <th id=\"T_092ef130_aa4e_11ed_803a_00155dfc04d5level0_row0\" class=\"row_heading level0 row0\" >0</th>\n",
       "                        <td id=\"T_092ef130_aa4e_11ed_803a_00155dfc04d5row0_col0\" class=\"data row0 col0\" >1.1e+04</td>\n",
       "                        <td id=\"T_092ef130_aa4e_11ed_803a_00155dfc04d5row0_col1\" class=\"data row0 col1\" >1.1e+04</td>\n",
       "                        <td id=\"T_092ef130_aa4e_11ed_803a_00155dfc04d5row0_col2\" class=\"data row0 col2\" >0.47</td>\n",
       "                        <td id=\"T_092ef130_aa4e_11ed_803a_00155dfc04d5row0_col3\" class=\"data row0 col3\" >0.47</td>\n",
       "            </tr>\n",
       "            <tr>\n",
       "                        <th id=\"T_092ef130_aa4e_11ed_803a_00155dfc04d5level0_row1\" class=\"row_heading level0 row1\" >5</th>\n",
       "                        <td id=\"T_092ef130_aa4e_11ed_803a_00155dfc04d5row1_col0\" class=\"data row1 col0\" >1.12e+04</td>\n",
       "                        <td id=\"T_092ef130_aa4e_11ed_803a_00155dfc04d5row1_col1\" class=\"data row1 col1\" >1.13e+04</td>\n",
       "                        <td id=\"T_092ef130_aa4e_11ed_803a_00155dfc04d5row1_col2\" class=\"data row1 col2\" >0.185</td>\n",
       "                        <td id=\"T_092ef130_aa4e_11ed_803a_00155dfc04d5row1_col3\" class=\"data row1 col3\" >0.178</td>\n",
       "            </tr>\n",
       "            <tr>\n",
       "                        <th id=\"T_092ef130_aa4e_11ed_803a_00155dfc04d5level0_row2\" class=\"row_heading level0 row2\" >10</th>\n",
       "                        <td id=\"T_092ef130_aa4e_11ed_803a_00155dfc04d5row2_col0\" class=\"data row2 col0\" >1.11e+04</td>\n",
       "                        <td id=\"T_092ef130_aa4e_11ed_803a_00155dfc04d5row2_col1\" class=\"data row2 col1\" >1.11e+04</td>\n",
       "                        <td id=\"T_092ef130_aa4e_11ed_803a_00155dfc04d5row2_col2\" class=\"data row2 col2\" >0.112</td>\n",
       "                        <td id=\"T_092ef130_aa4e_11ed_803a_00155dfc04d5row2_col3\" class=\"data row2 col3\" >0.112</td>\n",
       "            </tr>\n",
       "            <tr>\n",
       "                        <th id=\"T_092ef130_aa4e_11ed_803a_00155dfc04d5level0_row3\" class=\"row_heading level0 row3\" >15</th>\n",
       "                        <td id=\"T_092ef130_aa4e_11ed_803a_00155dfc04d5row3_col0\" class=\"data row3 col0\" >1.07e+04</td>\n",
       "                        <td id=\"T_092ef130_aa4e_11ed_803a_00155dfc04d5row3_col1\" class=\"data row3 col1\" >1.07e+04</td>\n",
       "                        <td id=\"T_092ef130_aa4e_11ed_803a_00155dfc04d5row3_col2\" class=\"data row3 col2\" >0.0856</td>\n",
       "                        <td id=\"T_092ef130_aa4e_11ed_803a_00155dfc04d5row3_col3\" class=\"data row3 col3\" >0.086</td>\n",
       "            </tr>\n",
       "    </tbody></table>"
      ],
      "text/plain": [
       "<pandas.io.formats.style.Styler at 0x7f75fda4dfd0>"
      ]
     },
     "metadata": {},
     "output_type": "display_data"
    },
    {
     "name": "stdout",
     "output_type": "stream",
     "text": [
      "[\u001b[1mtardis.simulation.base\u001b[0m][\u001b[1;37mINFO\u001b[0m   ]  \n",
      "\t\n",
      "\tCurrent t_inner = 10645.955 K\n",
      "\tExpected t_inner for next iteration = 10642.050 K\n",
      " (\u001b[1mbase.py\u001b[0m:518)\n",
      "[\u001b[1mtardis.simulation.base\u001b[0m][\u001b[1;37mINFO\u001b[0m   ]  \n",
      "\t\n",
      "\tStarting iteration 8 of 20 (\u001b[1mbase.py\u001b[0m:351)\n",
      "[\u001b[1mtardis.simulation.base\u001b[0m][\u001b[1;37mINFO\u001b[0m   ]  \n",
      "\t\n",
      "\tLuminosity emitted   = 1.062e+43 erg / s\n",
      "\tLuminosity absorbed  = 3.350e+42 erg / s\n",
      "\tLuminosity requested = 1.059e+43 erg / s\n",
      " (\u001b[1mbase.py\u001b[0m:523)\n",
      "[\u001b[1mtardis.simulation.convergence_plot\u001b[0m][\u001b[1;37mINFO\u001b[0m   ]  \n",
      "\tIteration converged 4/4 consecutive times. (\u001b[1mconvergence_plot.py\u001b[0m:94)\n",
      "[\u001b[1mtardis.simulation.base\u001b[0m][\u001b[1;37mINFO\u001b[0m   ]  \n",
      "\t\n",
      "\tPlasma stratification: (\u001b[1mbase.py\u001b[0m:491)\n"
     ]
    },
    {
     "data": {
      "text/html": [
       "<style  type=\"text/css\" >\n",
       "</style><table id=\"T_09a9b460_aa4e_11ed_803a_00155dfc04d5\" ><thead>    <tr>        <th class=\"index_name level0\" >Shell No.</th>        <th class=\"col_heading level0 col0\" >t_rad</th>        <th class=\"col_heading level0 col1\" >next_t_rad</th>        <th class=\"col_heading level0 col2\" >w</th>        <th class=\"col_heading level0 col3\" >next_w</th>    </tr></thead><tbody>\n",
       "                <tr>\n",
       "                        <th id=\"T_09a9b460_aa4e_11ed_803a_00155dfc04d5level0_row0\" class=\"row_heading level0 row0\" >0</th>\n",
       "                        <td id=\"T_09a9b460_aa4e_11ed_803a_00155dfc04d5row0_col0\" class=\"data row0 col0\" >1.1e+04</td>\n",
       "                        <td id=\"T_09a9b460_aa4e_11ed_803a_00155dfc04d5row0_col1\" class=\"data row0 col1\" >1.11e+04</td>\n",
       "                        <td id=\"T_09a9b460_aa4e_11ed_803a_00155dfc04d5row0_col2\" class=\"data row0 col2\" >0.47</td>\n",
       "                        <td id=\"T_09a9b460_aa4e_11ed_803a_00155dfc04d5row0_col3\" class=\"data row0 col3\" >0.472</td>\n",
       "            </tr>\n",
       "            <tr>\n",
       "                        <th id=\"T_09a9b460_aa4e_11ed_803a_00155dfc04d5level0_row1\" class=\"row_heading level0 row1\" >5</th>\n",
       "                        <td id=\"T_09a9b460_aa4e_11ed_803a_00155dfc04d5row1_col0\" class=\"data row1 col0\" >1.13e+04</td>\n",
       "                        <td id=\"T_09a9b460_aa4e_11ed_803a_00155dfc04d5row1_col1\" class=\"data row1 col1\" >1.14e+04</td>\n",
       "                        <td id=\"T_09a9b460_aa4e_11ed_803a_00155dfc04d5row1_col2\" class=\"data row1 col2\" >0.178</td>\n",
       "                        <td id=\"T_09a9b460_aa4e_11ed_803a_00155dfc04d5row1_col3\" class=\"data row1 col3\" >0.175</td>\n",
       "            </tr>\n",
       "            <tr>\n",
       "                        <th id=\"T_09a9b460_aa4e_11ed_803a_00155dfc04d5level0_row2\" class=\"row_heading level0 row2\" >10</th>\n",
       "                        <td id=\"T_09a9b460_aa4e_11ed_803a_00155dfc04d5row2_col0\" class=\"data row2 col0\" >1.11e+04</td>\n",
       "                        <td id=\"T_09a9b460_aa4e_11ed_803a_00155dfc04d5row2_col1\" class=\"data row2 col1\" >1.11e+04</td>\n",
       "                        <td id=\"T_09a9b460_aa4e_11ed_803a_00155dfc04d5row2_col2\" class=\"data row2 col2\" >0.112</td>\n",
       "                        <td id=\"T_09a9b460_aa4e_11ed_803a_00155dfc04d5row2_col3\" class=\"data row2 col3\" >0.111</td>\n",
       "            </tr>\n",
       "            <tr>\n",
       "                        <th id=\"T_09a9b460_aa4e_11ed_803a_00155dfc04d5level0_row3\" class=\"row_heading level0 row3\" >15</th>\n",
       "                        <td id=\"T_09a9b460_aa4e_11ed_803a_00155dfc04d5row3_col0\" class=\"data row3 col0\" >1.07e+04</td>\n",
       "                        <td id=\"T_09a9b460_aa4e_11ed_803a_00155dfc04d5row3_col1\" class=\"data row3 col1\" >1.07e+04</td>\n",
       "                        <td id=\"T_09a9b460_aa4e_11ed_803a_00155dfc04d5row3_col2\" class=\"data row3 col2\" >0.086</td>\n",
       "                        <td id=\"T_09a9b460_aa4e_11ed_803a_00155dfc04d5row3_col3\" class=\"data row3 col3\" >0.084</td>\n",
       "            </tr>\n",
       "    </tbody></table>"
      ],
      "text/plain": [
       "<pandas.io.formats.style.Styler at 0x7f75fd971040>"
      ]
     },
     "metadata": {},
     "output_type": "display_data"
    },
    {
     "name": "stdout",
     "output_type": "stream",
     "text": [
      "[\u001b[1mtardis.simulation.base\u001b[0m][\u001b[1;37mINFO\u001b[0m   ]  \n",
      "\t\n",
      "\tCurrent t_inner = 10642.050 K\n",
      "\tExpected t_inner for next iteration = 10636.106 K\n",
      " (\u001b[1mbase.py\u001b[0m:518)\n",
      "[\u001b[1mtardis.simulation.base\u001b[0m][\u001b[1;37mINFO\u001b[0m   ]  \n",
      "\t\n",
      "\tStarting iteration 9 of 20 (\u001b[1mbase.py\u001b[0m:351)\n",
      "[\u001b[1mtardis.simulation.base\u001b[0m][\u001b[1;37mINFO\u001b[0m   ]  \n",
      "\t\n",
      "\tLuminosity emitted   = 1.052e+43 erg / s\n",
      "\tLuminosity absorbed  = 3.411e+42 erg / s\n",
      "\tLuminosity requested = 1.059e+43 erg / s\n",
      " (\u001b[1mbase.py\u001b[0m:523)\n",
      "[\u001b[1mtardis.simulation.convergence_plot\u001b[0m][\u001b[1;37mINFO\u001b[0m   ]  \n",
      "\tIteration converged 5/4 consecutive times. (\u001b[1mconvergence_plot.py\u001b[0m:94)\n",
      "[\u001b[1mtardis.simulation.base\u001b[0m][\u001b[1;37mINFO\u001b[0m   ]  \n",
      "\t\n",
      "\tPlasma stratification: (\u001b[1mbase.py\u001b[0m:491)\n"
     ]
    },
    {
     "data": {
      "text/html": [
       "<style  type=\"text/css\" >\n",
       "</style><table id=\"T_0a243f0a_aa4e_11ed_803a_00155dfc04d5\" ><thead>    <tr>        <th class=\"index_name level0\" >Shell No.</th>        <th class=\"col_heading level0 col0\" >t_rad</th>        <th class=\"col_heading level0 col1\" >next_t_rad</th>        <th class=\"col_heading level0 col2\" >w</th>        <th class=\"col_heading level0 col3\" >next_w</th>    </tr></thead><tbody>\n",
       "                <tr>\n",
       "                        <th id=\"T_0a243f0a_aa4e_11ed_803a_00155dfc04d5level0_row0\" class=\"row_heading level0 row0\" >0</th>\n",
       "                        <td id=\"T_0a243f0a_aa4e_11ed_803a_00155dfc04d5row0_col0\" class=\"data row0 col0\" >1.11e+04</td>\n",
       "                        <td id=\"T_0a243f0a_aa4e_11ed_803a_00155dfc04d5row0_col1\" class=\"data row0 col1\" >1.11e+04</td>\n",
       "                        <td id=\"T_0a243f0a_aa4e_11ed_803a_00155dfc04d5row0_col2\" class=\"data row0 col2\" >0.472</td>\n",
       "                        <td id=\"T_0a243f0a_aa4e_11ed_803a_00155dfc04d5row0_col3\" class=\"data row0 col3\" >0.469</td>\n",
       "            </tr>\n",
       "            <tr>\n",
       "                        <th id=\"T_0a243f0a_aa4e_11ed_803a_00155dfc04d5level0_row1\" class=\"row_heading level0 row1\" >5</th>\n",
       "                        <td id=\"T_0a243f0a_aa4e_11ed_803a_00155dfc04d5row1_col0\" class=\"data row1 col0\" >1.14e+04</td>\n",
       "                        <td id=\"T_0a243f0a_aa4e_11ed_803a_00155dfc04d5row1_col1\" class=\"data row1 col1\" >1.15e+04</td>\n",
       "                        <td id=\"T_0a243f0a_aa4e_11ed_803a_00155dfc04d5row1_col2\" class=\"data row1 col2\" >0.175</td>\n",
       "                        <td id=\"T_0a243f0a_aa4e_11ed_803a_00155dfc04d5row1_col3\" class=\"data row1 col3\" >0.17</td>\n",
       "            </tr>\n",
       "            <tr>\n",
       "                        <th id=\"T_0a243f0a_aa4e_11ed_803a_00155dfc04d5level0_row2\" class=\"row_heading level0 row2\" >10</th>\n",
       "                        <td id=\"T_0a243f0a_aa4e_11ed_803a_00155dfc04d5row2_col0\" class=\"data row2 col0\" >1.11e+04</td>\n",
       "                        <td id=\"T_0a243f0a_aa4e_11ed_803a_00155dfc04d5row2_col1\" class=\"data row2 col1\" >1.11e+04</td>\n",
       "                        <td id=\"T_0a243f0a_aa4e_11ed_803a_00155dfc04d5row2_col2\" class=\"data row2 col2\" >0.111</td>\n",
       "                        <td id=\"T_0a243f0a_aa4e_11ed_803a_00155dfc04d5row2_col3\" class=\"data row2 col3\" >0.109</td>\n",
       "            </tr>\n",
       "            <tr>\n",
       "                        <th id=\"T_0a243f0a_aa4e_11ed_803a_00155dfc04d5level0_row3\" class=\"row_heading level0 row3\" >15</th>\n",
       "                        <td id=\"T_0a243f0a_aa4e_11ed_803a_00155dfc04d5row3_col0\" class=\"data row3 col0\" >1.07e+04</td>\n",
       "                        <td id=\"T_0a243f0a_aa4e_11ed_803a_00155dfc04d5row3_col1\" class=\"data row3 col1\" >1.08e+04</td>\n",
       "                        <td id=\"T_0a243f0a_aa4e_11ed_803a_00155dfc04d5row3_col2\" class=\"data row3 col2\" >0.084</td>\n",
       "                        <td id=\"T_0a243f0a_aa4e_11ed_803a_00155dfc04d5row3_col3\" class=\"data row3 col3\" >0.0822</td>\n",
       "            </tr>\n",
       "    </tbody></table>"
      ],
      "text/plain": [
       "<pandas.io.formats.style.Styler at 0x7f765f922ac0>"
      ]
     },
     "metadata": {},
     "output_type": "display_data"
    },
    {
     "name": "stdout",
     "output_type": "stream",
     "text": [
      "[\u001b[1mtardis.simulation.base\u001b[0m][\u001b[1;37mINFO\u001b[0m   ]  \n",
      "\t\n",
      "\tCurrent t_inner = 10636.106 K\n",
      "\tExpected t_inner for next iteration = 10654.313 K\n",
      " (\u001b[1mbase.py\u001b[0m:518)\n",
      "[\u001b[1mtardis.simulation.base\u001b[0m][\u001b[1;37mINFO\u001b[0m   ]  \n",
      "\t\n",
      "\tStarting iteration 10 of 20 (\u001b[1mbase.py\u001b[0m:351)\n",
      "[\u001b[1mtardis.simulation.base\u001b[0m][\u001b[1;37mINFO\u001b[0m   ]  \n",
      "\t\n",
      "\tLuminosity emitted   = 1.070e+43 erg / s\n",
      "\tLuminosity absorbed  = 3.335e+42 erg / s\n",
      "\tLuminosity requested = 1.059e+43 erg / s\n",
      " (\u001b[1mbase.py\u001b[0m:523)\n",
      "[\u001b[1mtardis.simulation.base\u001b[0m][\u001b[1;37mINFO\u001b[0m   ]  \n",
      "\t\n",
      "\tPlasma stratification: (\u001b[1mbase.py\u001b[0m:491)\n"
     ]
    },
    {
     "data": {
      "text/html": [
       "<style  type=\"text/css\" >\n",
       "</style><table id=\"T_0a9dfc6e_aa4e_11ed_803a_00155dfc04d5\" ><thead>    <tr>        <th class=\"index_name level0\" >Shell No.</th>        <th class=\"col_heading level0 col0\" >t_rad</th>        <th class=\"col_heading level0 col1\" >next_t_rad</th>        <th class=\"col_heading level0 col2\" >w</th>        <th class=\"col_heading level0 col3\" >next_w</th>    </tr></thead><tbody>\n",
       "                <tr>\n",
       "                        <th id=\"T_0a9dfc6e_aa4e_11ed_803a_00155dfc04d5level0_row0\" class=\"row_heading level0 row0\" >0</th>\n",
       "                        <td id=\"T_0a9dfc6e_aa4e_11ed_803a_00155dfc04d5row0_col0\" class=\"data row0 col0\" >1.11e+04</td>\n",
       "                        <td id=\"T_0a9dfc6e_aa4e_11ed_803a_00155dfc04d5row0_col1\" class=\"data row0 col1\" >1.1e+04</td>\n",
       "                        <td id=\"T_0a9dfc6e_aa4e_11ed_803a_00155dfc04d5row0_col2\" class=\"data row0 col2\" >0.469</td>\n",
       "                        <td id=\"T_0a9dfc6e_aa4e_11ed_803a_00155dfc04d5row0_col3\" class=\"data row0 col3\" >0.475</td>\n",
       "            </tr>\n",
       "            <tr>\n",
       "                        <th id=\"T_0a9dfc6e_aa4e_11ed_803a_00155dfc04d5level0_row1\" class=\"row_heading level0 row1\" >5</th>\n",
       "                        <td id=\"T_0a9dfc6e_aa4e_11ed_803a_00155dfc04d5row1_col0\" class=\"data row1 col0\" >1.15e+04</td>\n",
       "                        <td id=\"T_0a9dfc6e_aa4e_11ed_803a_00155dfc04d5row1_col1\" class=\"data row1 col1\" >1.14e+04</td>\n",
       "                        <td id=\"T_0a9dfc6e_aa4e_11ed_803a_00155dfc04d5row1_col2\" class=\"data row1 col2\" >0.17</td>\n",
       "                        <td id=\"T_0a9dfc6e_aa4e_11ed_803a_00155dfc04d5row1_col3\" class=\"data row1 col3\" >0.177</td>\n",
       "            </tr>\n",
       "            <tr>\n",
       "                        <th id=\"T_0a9dfc6e_aa4e_11ed_803a_00155dfc04d5level0_row2\" class=\"row_heading level0 row2\" >10</th>\n",
       "                        <td id=\"T_0a9dfc6e_aa4e_11ed_803a_00155dfc04d5row2_col0\" class=\"data row2 col0\" >1.11e+04</td>\n",
       "                        <td id=\"T_0a9dfc6e_aa4e_11ed_803a_00155dfc04d5row2_col1\" class=\"data row2 col1\" >1.11e+04</td>\n",
       "                        <td id=\"T_0a9dfc6e_aa4e_11ed_803a_00155dfc04d5row2_col2\" class=\"data row2 col2\" >0.109</td>\n",
       "                        <td id=\"T_0a9dfc6e_aa4e_11ed_803a_00155dfc04d5row2_col3\" class=\"data row2 col3\" >0.112</td>\n",
       "            </tr>\n",
       "            <tr>\n",
       "                        <th id=\"T_0a9dfc6e_aa4e_11ed_803a_00155dfc04d5level0_row3\" class=\"row_heading level0 row3\" >15</th>\n",
       "                        <td id=\"T_0a9dfc6e_aa4e_11ed_803a_00155dfc04d5row3_col0\" class=\"data row3 col0\" >1.08e+04</td>\n",
       "                        <td id=\"T_0a9dfc6e_aa4e_11ed_803a_00155dfc04d5row3_col1\" class=\"data row3 col1\" >1.06e+04</td>\n",
       "                        <td id=\"T_0a9dfc6e_aa4e_11ed_803a_00155dfc04d5row3_col2\" class=\"data row3 col2\" >0.0822</td>\n",
       "                        <td id=\"T_0a9dfc6e_aa4e_11ed_803a_00155dfc04d5row3_col3\" class=\"data row3 col3\" >0.0878</td>\n",
       "            </tr>\n",
       "    </tbody></table>"
      ],
      "text/plain": [
       "<pandas.io.formats.style.Styler at 0x7f75fd7fa7f0>"
      ]
     },
     "metadata": {},
     "output_type": "display_data"
    },
    {
     "name": "stdout",
     "output_type": "stream",
     "text": [
      "[\u001b[1mtardis.simulation.base\u001b[0m][\u001b[1;37mINFO\u001b[0m   ]  \n",
      "\t\n",
      "\tCurrent t_inner = 10654.313 K\n",
      "\tExpected t_inner for next iteration = 10628.190 K\n",
      " (\u001b[1mbase.py\u001b[0m:518)\n",
      "[\u001b[1mtardis.simulation.base\u001b[0m][\u001b[1;37mINFO\u001b[0m   ]  \n",
      "\t\n",
      "\tStarting iteration 11 of 20 (\u001b[1mbase.py\u001b[0m:351)\n",
      "[\u001b[1mtardis.simulation.base\u001b[0m][\u001b[1;37mINFO\u001b[0m   ]  \n",
      "\t\n",
      "\tLuminosity emitted   = 1.053e+43 erg / s\n",
      "\tLuminosity absorbed  = 3.363e+42 erg / s\n",
      "\tLuminosity requested = 1.059e+43 erg / s\n",
      " (\u001b[1mbase.py\u001b[0m:523)\n",
      "[\u001b[1mtardis.simulation.convergence_plot\u001b[0m][\u001b[1;37mINFO\u001b[0m   ]  \n",
      "\tIteration converged 1/4 consecutive times. (\u001b[1mconvergence_plot.py\u001b[0m:94)\n",
      "[\u001b[1mtardis.simulation.base\u001b[0m][\u001b[1;37mINFO\u001b[0m   ]  \n",
      "\t\n",
      "\tPlasma stratification: (\u001b[1mbase.py\u001b[0m:491)\n"
     ]
    },
    {
     "data": {
      "text/html": [
       "<style  type=\"text/css\" >\n",
       "</style><table id=\"T_0b18886c_aa4e_11ed_803a_00155dfc04d5\" ><thead>    <tr>        <th class=\"index_name level0\" >Shell No.</th>        <th class=\"col_heading level0 col0\" >t_rad</th>        <th class=\"col_heading level0 col1\" >next_t_rad</th>        <th class=\"col_heading level0 col2\" >w</th>        <th class=\"col_heading level0 col3\" >next_w</th>    </tr></thead><tbody>\n",
       "                <tr>\n",
       "                        <th id=\"T_0b18886c_aa4e_11ed_803a_00155dfc04d5level0_row0\" class=\"row_heading level0 row0\" >0</th>\n",
       "                        <td id=\"T_0b18886c_aa4e_11ed_803a_00155dfc04d5row0_col0\" class=\"data row0 col0\" >1.1e+04</td>\n",
       "                        <td id=\"T_0b18886c_aa4e_11ed_803a_00155dfc04d5row0_col1\" class=\"data row0 col1\" >1.1e+04</td>\n",
       "                        <td id=\"T_0b18886c_aa4e_11ed_803a_00155dfc04d5row0_col2\" class=\"data row0 col2\" >0.475</td>\n",
       "                        <td id=\"T_0b18886c_aa4e_11ed_803a_00155dfc04d5row0_col3\" class=\"data row0 col3\" >0.472</td>\n",
       "            </tr>\n",
       "            <tr>\n",
       "                        <th id=\"T_0b18886c_aa4e_11ed_803a_00155dfc04d5level0_row1\" class=\"row_heading level0 row1\" >5</th>\n",
       "                        <td id=\"T_0b18886c_aa4e_11ed_803a_00155dfc04d5row1_col0\" class=\"data row1 col0\" >1.14e+04</td>\n",
       "                        <td id=\"T_0b18886c_aa4e_11ed_803a_00155dfc04d5row1_col1\" class=\"data row1 col1\" >1.12e+04</td>\n",
       "                        <td id=\"T_0b18886c_aa4e_11ed_803a_00155dfc04d5row1_col2\" class=\"data row1 col2\" >0.177</td>\n",
       "                        <td id=\"T_0b18886c_aa4e_11ed_803a_00155dfc04d5row1_col3\" class=\"data row1 col3\" >0.184</td>\n",
       "            </tr>\n",
       "            <tr>\n",
       "                        <th id=\"T_0b18886c_aa4e_11ed_803a_00155dfc04d5level0_row2\" class=\"row_heading level0 row2\" >10</th>\n",
       "                        <td id=\"T_0b18886c_aa4e_11ed_803a_00155dfc04d5row2_col0\" class=\"data row2 col0\" >1.11e+04</td>\n",
       "                        <td id=\"T_0b18886c_aa4e_11ed_803a_00155dfc04d5row2_col1\" class=\"data row2 col1\" >1.1e+04</td>\n",
       "                        <td id=\"T_0b18886c_aa4e_11ed_803a_00155dfc04d5row2_col2\" class=\"data row2 col2\" >0.112</td>\n",
       "                        <td id=\"T_0b18886c_aa4e_11ed_803a_00155dfc04d5row2_col3\" class=\"data row2 col3\" >0.114</td>\n",
       "            </tr>\n",
       "            <tr>\n",
       "                        <th id=\"T_0b18886c_aa4e_11ed_803a_00155dfc04d5level0_row3\" class=\"row_heading level0 row3\" >15</th>\n",
       "                        <td id=\"T_0b18886c_aa4e_11ed_803a_00155dfc04d5row3_col0\" class=\"data row3 col0\" >1.06e+04</td>\n",
       "                        <td id=\"T_0b18886c_aa4e_11ed_803a_00155dfc04d5row3_col1\" class=\"data row3 col1\" >1.06e+04</td>\n",
       "                        <td id=\"T_0b18886c_aa4e_11ed_803a_00155dfc04d5row3_col2\" class=\"data row3 col2\" >0.0878</td>\n",
       "                        <td id=\"T_0b18886c_aa4e_11ed_803a_00155dfc04d5row3_col3\" class=\"data row3 col3\" >0.0859</td>\n",
       "            </tr>\n",
       "    </tbody></table>"
      ],
      "text/plain": [
       "<pandas.io.formats.style.Styler at 0x7f75fde789a0>"
      ]
     },
     "metadata": {},
     "output_type": "display_data"
    },
    {
     "name": "stdout",
     "output_type": "stream",
     "text": [
      "[\u001b[1mtardis.simulation.base\u001b[0m][\u001b[1;37mINFO\u001b[0m   ]  \n",
      "\t\n",
      "\tCurrent t_inner = 10628.190 K\n",
      "\tExpected t_inner for next iteration = 10644.054 K\n",
      " (\u001b[1mbase.py\u001b[0m:518)\n",
      "[\u001b[1mtardis.simulation.base\u001b[0m][\u001b[1;37mINFO\u001b[0m   ]  \n",
      "\t\n",
      "\tStarting iteration 12 of 20 (\u001b[1mbase.py\u001b[0m:351)\n",
      "[\u001b[1mtardis.simulation.base\u001b[0m][\u001b[1;37mINFO\u001b[0m   ]  \n",
      "\t\n",
      "\tLuminosity emitted   = 1.056e+43 erg / s\n",
      "\tLuminosity absorbed  = 3.420e+42 erg / s\n",
      "\tLuminosity requested = 1.059e+43 erg / s\n",
      " (\u001b[1mbase.py\u001b[0m:523)\n",
      "[\u001b[1mtardis.simulation.base\u001b[0m][\u001b[1;37mINFO\u001b[0m   ]  \n",
      "\t\n",
      "\tPlasma stratification: (\u001b[1mbase.py\u001b[0m:491)\n"
     ]
    },
    {
     "data": {
      "text/html": [
       "<style  type=\"text/css\" >\n",
       "</style><table id=\"T_0b958e7a_aa4e_11ed_803a_00155dfc04d5\" ><thead>    <tr>        <th class=\"index_name level0\" >Shell No.</th>        <th class=\"col_heading level0 col0\" >t_rad</th>        <th class=\"col_heading level0 col1\" >next_t_rad</th>        <th class=\"col_heading level0 col2\" >w</th>        <th class=\"col_heading level0 col3\" >next_w</th>    </tr></thead><tbody>\n",
       "                <tr>\n",
       "                        <th id=\"T_0b958e7a_aa4e_11ed_803a_00155dfc04d5level0_row0\" class=\"row_heading level0 row0\" >0</th>\n",
       "                        <td id=\"T_0b958e7a_aa4e_11ed_803a_00155dfc04d5row0_col0\" class=\"data row0 col0\" >1.1e+04</td>\n",
       "                        <td id=\"T_0b958e7a_aa4e_11ed_803a_00155dfc04d5row0_col1\" class=\"data row0 col1\" >1.11e+04</td>\n",
       "                        <td id=\"T_0b958e7a_aa4e_11ed_803a_00155dfc04d5row0_col2\" class=\"data row0 col2\" >0.472</td>\n",
       "                        <td id=\"T_0b958e7a_aa4e_11ed_803a_00155dfc04d5row0_col3\" class=\"data row0 col3\" >0.467</td>\n",
       "            </tr>\n",
       "            <tr>\n",
       "                        <th id=\"T_0b958e7a_aa4e_11ed_803a_00155dfc04d5level0_row1\" class=\"row_heading level0 row1\" >5</th>\n",
       "                        <td id=\"T_0b958e7a_aa4e_11ed_803a_00155dfc04d5row1_col0\" class=\"data row1 col0\" >1.12e+04</td>\n",
       "                        <td id=\"T_0b958e7a_aa4e_11ed_803a_00155dfc04d5row1_col1\" class=\"data row1 col1\" >1.13e+04</td>\n",
       "                        <td id=\"T_0b958e7a_aa4e_11ed_803a_00155dfc04d5row1_col2\" class=\"data row1 col2\" >0.184</td>\n",
       "                        <td id=\"T_0b958e7a_aa4e_11ed_803a_00155dfc04d5row1_col3\" class=\"data row1 col3\" >0.176</td>\n",
       "            </tr>\n",
       "            <tr>\n",
       "                        <th id=\"T_0b958e7a_aa4e_11ed_803a_00155dfc04d5level0_row2\" class=\"row_heading level0 row2\" >10</th>\n",
       "                        <td id=\"T_0b958e7a_aa4e_11ed_803a_00155dfc04d5row2_col0\" class=\"data row2 col0\" >1.1e+04</td>\n",
       "                        <td id=\"T_0b958e7a_aa4e_11ed_803a_00155dfc04d5row2_col1\" class=\"data row2 col1\" >1.11e+04</td>\n",
       "                        <td id=\"T_0b958e7a_aa4e_11ed_803a_00155dfc04d5row2_col2\" class=\"data row2 col2\" >0.114</td>\n",
       "                        <td id=\"T_0b958e7a_aa4e_11ed_803a_00155dfc04d5row2_col3\" class=\"data row2 col3\" >0.11</td>\n",
       "            </tr>\n",
       "            <tr>\n",
       "                        <th id=\"T_0b958e7a_aa4e_11ed_803a_00155dfc04d5level0_row3\" class=\"row_heading level0 row3\" >15</th>\n",
       "                        <td id=\"T_0b958e7a_aa4e_11ed_803a_00155dfc04d5row3_col0\" class=\"data row3 col0\" >1.06e+04</td>\n",
       "                        <td id=\"T_0b958e7a_aa4e_11ed_803a_00155dfc04d5row3_col1\" class=\"data row3 col1\" >1.08e+04</td>\n",
       "                        <td id=\"T_0b958e7a_aa4e_11ed_803a_00155dfc04d5row3_col2\" class=\"data row3 col2\" >0.0859</td>\n",
       "                        <td id=\"T_0b958e7a_aa4e_11ed_803a_00155dfc04d5row3_col3\" class=\"data row3 col3\" >0.0821</td>\n",
       "            </tr>\n",
       "    </tbody></table>"
      ],
      "text/plain": [
       "<pandas.io.formats.style.Styler at 0x7f765f922580>"
      ]
     },
     "metadata": {},
     "output_type": "display_data"
    },
    {
     "name": "stdout",
     "output_type": "stream",
     "text": [
      "[\u001b[1mtardis.simulation.base\u001b[0m][\u001b[1;37mINFO\u001b[0m   ]  \n",
      "\t\n",
      "\tCurrent t_inner = 10644.054 K\n",
      "\tExpected t_inner for next iteration = 10653.543 K\n",
      " (\u001b[1mbase.py\u001b[0m:518)\n",
      "[\u001b[1mtardis.simulation.base\u001b[0m][\u001b[1;37mINFO\u001b[0m   ]  \n",
      "\t\n",
      "\tStarting iteration 13 of 20 (\u001b[1mbase.py\u001b[0m:351)\n"
     ]
    }
   ],
   "source": [
    "sim = run_tardis(\"tardis_example.yml\", \n",
    "                 virtual_packet_logging=True,\n",
    "                 show_convergence_plots=True,\n",
    "                 export_convergence_plots=True,\n",
    "                 log_level=\"INFO\") "
   ]
  },
  {
   "cell_type": "markdown",
   "metadata": {},
   "source": [
    "## Plotting the Spectrum\n",
    "\n",
    "Finally, plot the generated spectrum with `matplotlib`."
   ]
  },
  {
   "cell_type": "code",
   "execution_count": 7,
   "metadata": {},
   "outputs": [],
   "source": [
    "import matplotlib.pyplot as plt"
   ]
  },
  {
   "cell_type": "code",
   "execution_count": null,
   "metadata": {},
   "outputs": [
    {
     "name": "stdout",
     "output_type": "stream",
     "text": [
      "[\u001b[1mpy.warnings         \u001b[0m][\u001b[1;33mWARNING\u001b[0m]  \n",
      "\t/mnt/c/Users/ASUS/Downloads/Tardis/Forked Tardis/tardis/tardis/montecarlo/montecarlo_numba/formal_integral.py:371: UserWarning:\n",
      "\n",
      "The number of interpolate_shells was not specified. The value was set to 80.\n",
      "\n",
      " (\u001b[1mwarnings.py\u001b[0m:109)\n"
     ]
    }
   ],
   "source": [
    "spectrum = sim.runner.spectrum\n",
    "spectrum_virtual = sim.runner.spectrum_virtual\n",
    "spectrum_integrated = sim.runner.spectrum_integrated"
   ]
  },
  {
   "cell_type": "code",
   "execution_count": null,
   "metadata": {},
   "outputs": [],
   "source": [
    "%matplotlib inline\n",
    "plt.figure(figsize=(10, 6.5))\n",
    "\n",
    "spectrum.plot(label=\"Normal packets\")\n",
    "spectrum_virtual.plot(label=\"Virtual packets\")\n",
    "spectrum_integrated.plot(label='Formal integral')\n",
    "\n",
    "plt.xlim(500, 9000)\n",
    "plt.title(\"TARDIS example model spectrum\")\n",
    "plt.xlabel(\"Wavelength [$\\AA$]\")\n",
    "plt.ylabel(\"Luminosity density [erg/s/$\\AA$]\")\n",
    "plt.legend()\n",
    "plt.show()"
   ]
  }
 ],
 "metadata": {
  "interpreter": {
   "hash": "14c438b85bc0c5441332c56c5d68185f391ef15672c5492b27fc26d9164316c1"
  },
  "kernelspec": {
   "display_name": "Python 3 (ipykernel)",
   "language": "python",
   "name": "python3"
  },
  "language_info": {
   "codemirror_mode": {
    "name": "ipython",
    "version": 3
   },
   "file_extension": ".py",
   "mimetype": "text/x-python",
   "name": "python",
   "nbconvert_exporter": "python",
   "pygments_lexer": "ipython3",
   "version": "3.8.15"
  }
 },
 "nbformat": 4,
 "nbformat_minor": 2
}
