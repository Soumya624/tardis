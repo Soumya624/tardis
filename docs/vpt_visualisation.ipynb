{
 "cells": [
  {
   "cell_type": "markdown",
   "metadata": {},
   "source": [
    "# Velocity Packet Tracker Visualisation\n",
    "\n",
    "A file to generate a SDEC plot. And to a second plot showing the abundance of each element as a function of velocity"
   ]
  },
  {
   "cell_type": "markdown",
   "metadata": {},
   "source": [
    "## Atomic Data\n",
    "\n",
    "Using the [kurucz_cd23_chianti_H_He.h5](https://dev.azure.com/tardis-sn/TARDIS/_apis/git/repositories/tardis-refdata/items?path=atom_data/kurucz_cd23_chianti_H_He.h5&resolveLfs=true) dataset, as recommended"
   ]
  },
  {
   "cell_type": "code",
   "execution_count": 1,
   "metadata": {},
   "outputs": [
    {
     "data": {
      "application/vnd.jupyter.widget-view+json": {
       "model_id": "",
       "version_major": 2,
       "version_minor": 0
      },
      "text/plain": [
       "Iterations:          0/? [00:00<?, ?it/s]"
      ]
     },
     "metadata": {},
     "output_type": "display_data"
    },
    {
     "data": {
      "application/vnd.jupyter.widget-view+json": {
       "model_id": "",
       "version_major": 2,
       "version_minor": 0
      },
      "text/plain": [
       "Packets:             0/? [00:00<?, ?it/s]"
      ]
     },
     "metadata": {},
     "output_type": "display_data"
    }
   ],
   "source": [
    "from tardis.io.atom_data.util import download_atom_data"
   ]
  },
  {
   "cell_type": "code",
   "execution_count": 2,
   "metadata": {},
   "outputs": [],
   "source": [
    "download_atom_data('kurucz_cd23_chianti_H_He')"
   ]
  },
  {
   "cell_type": "markdown",
   "metadata": {},
   "source": [
    "## Example Configuration File\n",
    "\n",
    "The configuration file [tardis_example.yml](https://github.com/tardis-sn/tardis/tree/master/docs/tardis_example.yml) is used throughout this"
   ]
  },
  {
   "cell_type": "code",
   "execution_count": 3,
   "metadata": {},
   "outputs": [],
   "source": [
    "!wget -q -nc https://raw.githubusercontent.com/tardis-sn/tardis/master/docs/tardis_example.yml"
   ]
  },
  {
   "cell_type": "code",
   "execution_count": null,
   "metadata": {},
   "outputs": [],
   "source": [
    "!cat tardis_example.yml"
   ]
  },
  {
   "cell_type": "markdown",
   "metadata": {},
   "source": [
    "## Running the Simulation\n",
    "\n",
    "Importing the `run_tardis` function and creating the `sim` object"
   ]
  },
  {
   "cell_type": "code",
   "execution_count": 5,
   "metadata": {},
   "outputs": [],
   "source": [
    "from tardis import run_tardis"
   ]
  },
  {
   "cell_type": "code",
   "execution_count": null,
   "metadata": {},
   "outputs": [],
   "source": [
    "sim = run_tardis(\"tardis_example.yml\", \n",
    "                 virtual_packet_logging=True,\n",
    "                 show_convergence_plots=True,\n",
    "                 export_convergence_plots=True,\n",
    "                 log_level=\"INFO\") "
   ]
  },
  {
   "cell_type": "markdown",
   "metadata": {},
   "source": [
    "## Generating SDEC Plot\n",
    "\n",
    "Finally, generating the SDEC plot with `matplotlib`"
   ]
  },
  {
   "cell_type": "code",
   "execution_count": 7,
   "metadata": {},
   "outputs": [],
   "source": [
    "from tardis.visualization import SDECPlotter"
   ]
  },
  {
   "cell_type": "code",
   "execution_count": 8,
   "metadata": {},
   "outputs": [],
   "source": [
    "import matplotlib.pyplot as plt"
   ]
  },
  {
   "cell_type": "code",
   "execution_count": null,
   "metadata": {},
   "outputs": [],
   "source": [
    "# Create plot\n",
    "plot = SDECPlotter.from_simulation(sim)\n",
    "fig = plot.generate_plot_mpl()\n",
    "\n",
    "# Customize plot\n",
    "fig.set_facecolor('#f5f5f5')  # Set background color"
   ]
  },
  {
   "cell_type": "markdown",
   "metadata": {},
   "source": [
    "## Visualising Abundance\n",
    "\n",
    "Relating abundance of the elements against velocity"
   ]
  },
  {
   "cell_type": "code",
   "execution_count": 11,
   "metadata": {},
   "outputs": [],
   "source": [
    "import matplotlib.pyplot as plt"
   ]
  },
  {
   "cell_type": "markdown",
   "metadata": {},
   "source": [
    "### Define Variables"
   ]
  },
  {
   "cell_type": "code",
   "execution_count": 12,
   "metadata": {},
   "outputs": [],
   "source": [
    "# Converting velocity to km/s\n",
    "vel_of_shell = (sim.model.v_inner / 1000).to('km/s')\n",
    "\n",
    "abundance = sim.plasma.abundance\n",
    "\n",
    "# Converting density to g/cm^3\n",
    "density_of_shell = (sim.model.homologous_density.density_0 / 1000**3).to('g/cm^3')"
   ]
  },
  {
   "cell_type": "markdown",
   "metadata": {},
   "source": [
    "### Plot Fractional Abudances"
   ]
  },
  {
   "cell_type": "code",
   "execution_count": null,
   "metadata": {},
   "outputs": [],
   "source": [
    "fig, abundance_axis = plt.subplots(figsize=(20, 5))\n",
    "atom_data = sim.plasma.atomic_data.atom_data\n",
    "\n",
    "for atomic_number in sim.plasma.selected_atoms:\n",
    "    atom_abundance = abundance.loc[atomic_number]\n",
    "    abundance_axis.step(vel_of_shell, atom_abundance, marker='.', label=atom_data.symbol.loc[atomic_number])\n",
    "\n",
    "abundance_axis.set(title='Trend of Elements vs Velocity', xlabel='Inner Velocity (km/s)', ylabel='Abundance (Fractional)')\n",
    "\n",
    "density_axis = abundance_axis.twinx()\n",
    "density_axis.step(vel_of_shell, density_of_shell[1:], marker='s', label='Density')\n",
    "density_axis.set(ylabel='Density (g/cm^3)')\n",
    "\n",
    "_ = fig.legend()"
   ]
  },
  {
   "cell_type": "markdown",
   "metadata": {},
   "source": [
    "### Density vs Velocity for Different Elements\n",
    "\n",
    "This plot shows the fractional abundance of different elements as a function of inner velocity, with the density of the shell overlaid as a black dashed line on the right axis. Each element is represented by a different colored line, with a legend indicating the symbol for each element"
   ]
  },
  {
   "cell_type": "code",
   "execution_count": null,
   "metadata": {},
   "outputs": [],
   "source": [
    "fig, ax = plt.subplots(figsize=(10, 6))\n",
    "\n",
    "for atomic_number in sim.plasma.selected_atoms:\n",
    "    atom_abundance = abundance.loc[atomic_number]\n",
    "    ax.plot(vel_of_shell, atom_abundance, label=atom_data.symbol.loc[atomic_number])\n",
    "    \n",
    "ax.set(xlabel='Inner Velocity in Metre/Sec', ylabel='Abundance (Fractional)', title='Trend of Elements vs Velocity')\n",
    "ax.legend()\n",
    "\n",
    "ax2 = ax.twinx()\n",
    "ax2.plot(vel_of_shell, density_of_shell[1:], 'k--', label='Density')\n",
    "ax2.set(ylabel='Density in Kg/Cubic Metre')\n",
    "\n",
    "fig.legend()\n",
    "plt.show()\n"
   ]
  },
  {
   "cell_type": "markdown",
   "metadata": {},
   "source": [
    "### Bubble Chart\n",
    "\n",
    "This plot shows the density of each element at the outermost shell as a function of inner velocity using a bubble chart. Each element is represented by a circle with a size proportional to its fractional abundance at the outermost shell, and a color indicating its atomic symbol. The size and position of the outermost shell circle is fixed, while the position of the element circles varies with velocity. This plot is useful for comparing the densities of different elements at the outermost shell across a range of velocities"
   ]
  },
  {
   "cell_type": "code",
   "execution_count": null,
   "metadata": {},
   "outputs": [],
   "source": [
    "fig, ax = plt.subplots(figsize=(10, 6))\n",
    "\n",
    "abundance_data = []\n",
    "density_data = []\n",
    "\n",
    "for atomic_number in sim.plasma.selected_atoms:\n",
    "    atom_abundance = abundance.loc[atomic_number].iloc[-1]\n",
    "    atom_density = atom_abundance * density_of_shell[-1]\n",
    "    abundance_data.append(atom_abundance)\n",
    "    density_data.append(atom_density)\n",
    "\n",
    "ax.scatter(vel_of_shell[-1], density_of_shell[-1], s=200, c='r', alpha=0.5, label='Outermost Shell')\n",
    "\n",
    "for i, atomic_number in enumerate(sim.plasma.selected_atoms):\n",
    "    ax.scatter(vel_of_shell[-1], density_data[i], s=500*abundance_data[i], alpha=0.5, label=atom_data.symbol.loc[atomic_number])\n",
    "\n",
    "ax.set(xlabel='Inner Velocity in Metre/Sec', ylabel='Density in Kg/Cubic Metre', title='Elemental Densities vs Velocity')\n",
    "ax.legend()\n",
    "\n",
    "plt.show()\n"
   ]
  }
 ],
 "metadata": {
  "kernelspec": {
   "display_name": "Python 3 (ipykernel)",
   "language": "python",
   "name": "python3"
  },
  "language_info": {
   "codemirror_mode": {
    "name": "ipython",
    "version": 3
   },
   "file_extension": ".py",
   "mimetype": "text/x-python",
   "name": "python",
   "nbconvert_exporter": "python",
   "pygments_lexer": "ipython3",
   "version": "3.8.15"
  },
  "vscode": {
   "interpreter": {
    "hash": "369f2c481f4da34e4445cda3fffd2e751bd1c4d706f27375911949ba6bb62e1c"
   }
  }
 },
 "nbformat": 4,
 "nbformat_minor": 2
}
